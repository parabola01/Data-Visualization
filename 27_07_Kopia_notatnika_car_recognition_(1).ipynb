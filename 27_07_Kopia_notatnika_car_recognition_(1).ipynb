{
  "cells": [
    {
      "cell_type": "markdown",
      "metadata": {
        "id": "view-in-github",
        "colab_type": "text"
      },
      "source": [
        "<a href=\"https://colab.research.google.com/github/parabola01/Data-Visualization/blob/main/27_07_Kopia_notatnika_car_recognition_(1).ipynb\" target=\"_parent\"><img src=\"https://colab.research.google.com/assets/colab-badge.svg\" alt=\"Open In Colab\"/></a>"
      ]
    },
    {
      "cell_type": "code",
      "execution_count": 1,
      "metadata": {
        "id": "tXkdQ52Fo6MA"
      },
      "outputs": [],
      "source": [
        "import torch\n",
        "import torch.nn as nn\n",
        "from torchvision import datasets, transforms, models\n",
        "from torch.utils.data import DataLoader"
      ]
    },
    {
      "cell_type": "code",
      "execution_count": 2,
      "metadata": {
        "id": "EIi4MiWe7gN2",
        "colab": {
          "base_uri": "https://localhost:8080/"
        },
        "outputId": "033b7e9a-2eaa-4652-c91b-2475550a1bd7"
      },
      "outputs": [
        {
          "output_type": "stream",
          "name": "stdout",
          "text": [
            "Mounted at /content/my_drive\n"
          ]
        }
      ],
      "source": [
        "from google.colab import drive\n",
        "import os\n",
        "drive.mount('/content/my_drive')"
      ]
    },
    {
      "cell_type": "code",
      "execution_count": 3,
      "metadata": {
        "id": "7G5B05dcophv"
      },
      "outputs": [],
      "source": [
        "# images_base_dir = 'cars_merged'\n",
        "images_base_dir = '/content/my_drive/MyDrive/cars_merged'"
      ]
    },
    {
      "cell_type": "code",
      "execution_count": 4,
      "metadata": {
        "id": "K1Enu8DoglzS"
      },
      "outputs": [],
      "source": [
        "# output_dir = ''\n",
        "output_dir = '/content/my_drive/MyDrive/'\n",
        "output_data_json_path = os.path.join(output_dir, 'car_dataset_items_with_ids.json')\n",
        "output_mappings_json_path = os.path.join(output_dir, 'car_dataset_mappings.json')"
      ]
    },
    {
      "cell_type": "code",
      "execution_count": 5,
      "metadata": {
        "id": "fxAPCo2KnKQF"
      },
      "outputs": [],
      "source": [
        "from torch.utils.data import Dataset\n",
        "from torchvision.datasets.folder import default_loader\n",
        "import torch\n",
        "import os\n",
        "\n",
        "class StanfordCarsMultiHeadDataset(Dataset):\n",
        "    def __init__(self, data_items, images_dir, transform=None):\n",
        "        self.data_items = data_items\n",
        "        self.images_dir = images_dir\n",
        "        self.transform = transform\n",
        "\n",
        "    def __len__(self):\n",
        "        return len(self.data_items)\n",
        "\n",
        "    def __getitem__(self, idx):\n",
        "        item = self.data_items[idx]\n",
        "\n",
        "        brand_id = item['brand_id']\n",
        "        model_id = item['model_id']\n",
        "        type_id = item['type_id']\n",
        "\n",
        "        img_path = os.path.join(self.images_dir, item['image_path'])\n",
        "\n",
        "        image = default_loader(img_path)\n",
        "        if self.transform:\n",
        "            image = self.transform(image)\n",
        "\n",
        "        return image, {\n",
        "            \"brand\": torch.tensor(brand_id),\n",
        "            \"model\": torch.tensor(model_id),\n",
        "            \"type\": torch.tensor(type_id)\n",
        "        }"
      ]
    },
    {
      "cell_type": "code",
      "execution_count": 6,
      "metadata": {
        "colab": {
          "base_uri": "https://localhost:8080/"
        },
        "id": "H3kyiNv17JfS",
        "outputId": "acd6d3b7-9edd-4054-b80c-b3d0a990daf0"
      },
      "outputs": [
        {
          "output_type": "stream",
          "name": "stdout",
          "text": [
            "Wczytywanie danych z /content/my_drive/MyDrive/car_dataset_items_with_ids.json\n",
            "Wczytywanie mapowań z /content/my_drive/MyDrive/car_dataset_mappings.json\n"
          ]
        }
      ],
      "source": [
        "import json\n",
        "print(f\"Wczytywanie danych z {output_data_json_path}\")\n",
        "with open(output_data_json_path, 'r') as f:\n",
        "    loaded_data_items_with_ids = json.load(f)\n",
        "\n",
        "print(f\"Wczytywanie mapowań z {output_mappings_json_path}\")\n",
        "with open(output_mappings_json_path, 'r') as f:\n",
        "    loaded_mappings = json.load(f)"
      ]
    },
    {
      "cell_type": "code",
      "execution_count": 7,
      "metadata": {
        "id": "BHlhEHQa-qpL"
      },
      "outputs": [],
      "source": [
        "num_brands = len(loaded_mappings['brand2idx'])\n",
        "num_models = len(loaded_mappings['model2idx'])\n",
        "num_types = len(loaded_mappings['type2idx'])"
      ]
    },
    {
      "cell_type": "code",
      "source": [
        "brand_to_model_mask = torch.full((num_brands, num_models), float('-inf'))\n",
        "\n",
        "for item in loaded_data_items_with_ids:\n",
        "    brand_id = item['brand_id']\n",
        "    model_id = item['model_id']\n",
        "    brand_to_model_mask[brand_id, model_id] = 0"
      ],
      "metadata": {
        "id": "nGp79RXWpiE2"
      },
      "execution_count": 8,
      "outputs": []
    },
    {
      "cell_type": "code",
      "source": [
        "model_to_type_mask = torch.full((num_models, num_types), float('-inf'))\n",
        "\n",
        "for item in loaded_data_items_with_ids:\n",
        "    model_id = item['model_id']\n",
        "    type_id = item['type_id']\n",
        "    model_to_type_mask[model_id, type_id] = 0"
      ],
      "metadata": {
        "id": "oFOTtwj2pjAO"
      },
      "execution_count": 9,
      "outputs": []
    },
    {
      "cell_type": "code",
      "execution_count": 10,
      "metadata": {
        "id": "XnyRiwLCoK4p"
      },
      "outputs": [],
      "source": [
        "from torchvision import transforms\n",
        "from torch.utils.data import DataLoader\n",
        "\n",
        "transform = transforms.Compose([\n",
        "    transforms.RandomAffine(degrees=10, translate=(0.1, 0.1), scale=(0.9, 1.1)),  # rotacja + przesunięcie + skalowanie\n",
        "    transforms.Resize((224, 224)),\n",
        "    transforms.RandomHorizontalFlip(p=0.5),  # lustrzane odbicie\n",
        "    transforms.ToTensor(),\n",
        "    transforms.Normalize(mean=[0.485, 0.456, 0.406],  # wartości z ImageNet\n",
        "                         std=[0.229, 0.224, 0.225])\n",
        "])\n",
        "\n",
        "dataset = StanfordCarsMultiHeadDataset(loaded_data_items_with_ids, images_base_dir, transform=transform)"
      ]
    },
    {
      "cell_type": "code",
      "execution_count": 11,
      "metadata": {
        "id": "T8UypFcWADjG"
      },
      "outputs": [],
      "source": [
        "from sklearn.model_selection import train_test_split\n",
        "from torch.utils.data import DataLoader, Subset\n",
        "from tqdm import tqdm\n",
        "\n",
        "# Parametry\n",
        "fine_tune_epochs = 20\n",
        "batch_size = 128\n",
        "device = torch.device(\"cuda\" if torch.cuda.is_available() else \"cpu\")\n",
        "\n",
        "# Podział danych\n",
        "indices = list(range(len(dataset)))\n",
        "train_val_idx, test_idx = train_test_split(indices, test_size=0.2, random_state=42)\n",
        "train_idx, val_idx = train_test_split(train_val_idx, test_size=0.125, random_state=42)\n",
        "\n",
        "# Use Subset to select the indices for train and validation\n",
        "train_subset = Subset(dataset, train_idx)\n",
        "val_subset = Subset(dataset, val_idx)\n",
        "test_subset = Subset(dataset, test_idx)\n",
        "\n",
        "train_loader = DataLoader(train_subset, batch_size=batch_size, shuffle=True)\n",
        "val_loader = DataLoader(val_subset, batch_size=batch_size)\n",
        "test_loader = DataLoader(test_subset, batch_size=batch_size, shuffle=False)"
      ]
    },
    {
      "cell_type": "code",
      "execution_count": 12,
      "metadata": {
        "id": "ukNeeqUUvuw7"
      },
      "outputs": [],
      "source": [
        "\n",
        "from datetime import datetime\n",
        "from torch.utils.tensorboard import SummaryWriter\n",
        "\n",
        "timestamp = datetime.now().strftime(\"%Y-%m-%d_%H-%M-%S\")\n",
        "\n",
        "# log_dir = f\"logs/experiment_{timestamp}\"\n",
        "log_dir = \"/content/drive/MyDrive/tensorboard_logs/experiment_{timestamp}\"\n",
        "writer = SummaryWriter(log_dir=log_dir)"
      ]
    },
    {
      "cell_type": "code",
      "execution_count": 18,
      "metadata": {
        "id": "Qwl9CEUPsttD"
      },
      "outputs": [],
      "source": [
        "import torch\n",
        "import torch.nn as nn\n",
        "import torchvision.models as models\n",
        "\n",
        "class MultiHeadResNet(nn.Module):\n",
        "    def __init__(self, base_model, num_brands, num_models, num_types, brand_to_model_mask, model_to_type_mask,\n",
        "                 brand_embedding_dim=64, model_embedding_dim=128):\n",
        "        super().__init__()\n",
        "        self.backbone = base_model\n",
        "        in_features = base_model.fc.in_features\n",
        "        self.backbone.fc = nn.Identity()\n",
        "\n",
        "        self.brand_to_model_mask = brand_to_model_mask\n",
        "        self.model_to_type_mask = model_to_type_mask\n",
        "\n",
        "        self.brand_embedding = nn.Embedding(num_brands, brand_embedding_dim)\n",
        "        self.model_embedding = nn.Embedding(num_models, model_embedding_dim)\n",
        "\n",
        "        # Głowa do klasyfikacji marki\n",
        "        self.brand_head = nn.Sequential(\n",
        "            nn.Linear(in_features, 1024),\n",
        "            nn.ReLU(),\n",
        "            nn.Dropout(0.3),\n",
        "            nn.Linear(1024, num_brands)\n",
        "        )\n",
        "\n",
        "        # --- Model Head ---\n",
        "        # Input: backbone features + brand embedding\n",
        "        self.model_head = nn.Sequential(\n",
        "            nn.Linear(in_features + brand_embedding_dim, 1024),\n",
        "            nn.ReLU(),\n",
        "            nn.Dropout(0.3),\n",
        "            nn.Linear(1024, num_models)\n",
        "        )\n",
        "\n",
        "        # --- Type Head ---\n",
        "        # Input: backbone features + brand embedding + model embedding\n",
        "        self.type_head = nn.Sequential(\n",
        "            nn.Linear(in_features + brand_embedding_dim + model_embedding_dim, 512),\n",
        "            nn.ReLU(),\n",
        "            nn.Dropout(0.3),\n",
        "            nn.Linear(512, num_types)\n",
        "        )\n",
        "\n",
        "    def forward(self, x, targets=None):\n",
        "        features = self.backbone(x)  # Ekstrakcja cech z obrazu\n",
        "\n",
        "        brand_logits = self.brand_head(features)\n",
        "\n",
        "        if self.training:\n",
        "            # --- TRAINING PATH (Teacher Forcing) ---\n",
        "            # Use ground-truth labels to get embeddings for stability\n",
        "            if targets is None:\n",
        "                raise ValueError(\"Targets must be provided during training for teacher forcing.\")\n",
        "\n",
        "            brand_labels = targets['brand']\n",
        "            model_labels = targets['model']\n",
        "\n",
        "            # 1. Look up brand embedding using ground-truth brand labels\n",
        "            brand_emb = self.brand_embedding(brand_labels)\n",
        "\n",
        "            # 2. Predict model using features + true brand embedding\n",
        "            model_input = torch.cat([features, brand_emb], dim=1)\n",
        "            model_logits = self.model_head(model_input)\n",
        "\n",
        "            # 3. Look up model embedding using ground-truth model labels\n",
        "            model_emb = self.model_embedding(model_labels)\n",
        "\n",
        "            # 4. Predict type using features + true brand & model embeddings\n",
        "            type_input = torch.cat([features, brand_emb, model_emb], dim=1)\n",
        "            type_logits = self.type_head(type_input)\n",
        "\n",
        "            return {\n",
        "                \"brand\": brand_logits,\n",
        "                \"model\": model_logits,\n",
        "                \"type\": type_logits\n",
        "            }\n",
        "\n",
        "        else:\n",
        "            # --- INFERENCE PATH ---\n",
        "            # Use the model's own predictions to get embeddings\n",
        "\n",
        "            # 1. Get brand prediction and its embedding\n",
        "            brand_preds = torch.argmax(brand_logits, dim=1)\n",
        "            brand_emb = self.brand_embedding(brand_preds)\n",
        "\n",
        "            # 2. Predict model using features + predicted brand embedding\n",
        "            model_input = torch.cat([features, brand_emb], dim=1)\n",
        "            model_logits = self.model_head(model_input)\n",
        "\n",
        "            # Apply mask to model logits based on brand prediction\n",
        "            model_mask = self.brand_to_model_mask[brand_preds]\n",
        "            masked_model_logits = model_logits + model_mask\n",
        "\n",
        "            # 3. Get model prediction and its embedding\n",
        "            model_preds = torch.argmax(masked_model_logits, dim=1)\n",
        "            model_emb = self.model_embedding(model_preds)\n",
        "\n",
        "            # 4. Predict type using features + predicted brand & model embeddings\n",
        "            type_input = torch.cat([features, brand_emb, model_emb], dim=1)\n",
        "            type_logits = self.type_head(type_input)\n",
        "\n",
        "            # Apply mask to type logits based on model prediction\n",
        "            type_mask = self.model_to_type_mask[model_preds]\n",
        "            masked_type_logits = type_logits + type_mask\n",
        "\n",
        "            return {\n",
        "                \"brand\": brand_logits, # Return original logits for brand\n",
        "                \"model\": masked_model_logits,\n",
        "                \"type\": masked_type_logits\n",
        "            }\n"
      ]
    },
    {
      "cell_type": "code",
      "execution_count": 19,
      "metadata": {
        "id": "nNeDsy26s-F-"
      },
      "outputs": [],
      "source": [
        "def evaluate(model, loader, epoch, criterion, prefix=\"val\"):\n",
        "    model.eval()\n",
        "    total_loss = 0\n",
        "    correct = {\"brand\": 0, \"model\": 0, \"type\": 0}\n",
        "    total = 0\n",
        "\n",
        "    with torch.no_grad():\n",
        "        for images, targets in loader:\n",
        "            images = images.to(device)\n",
        "            targets = {k: v.to(device) for k, v in targets.items()}\n",
        "\n",
        "            outputs = model(images)\n",
        "            loss = sum(criterion(outputs[k], targets[k]) for k in outputs)\n",
        "            total_loss += loss.item()\n",
        "\n",
        "            for key in outputs:\n",
        "                preds = outputs[key].argmax(dim=1)\n",
        "                correct[key] += (preds == targets[key]).sum().item()\n",
        "            total += images.size(0)\n",
        "\n",
        "    avg_loss = total_loss / len(loader)\n",
        "    acc = {k: correct[k] / total for k in correct}\n",
        "\n",
        "    # TensorBoard log\n",
        "    writer.add_scalar(f\"{prefix}/loss\", avg_loss, epoch)\n",
        "    for k in acc:\n",
        "        writer.add_scalar(f\"{prefix}/acc_{k}\", acc[k], epoch)\n",
        "\n",
        "    return avg_loss, acc\n"
      ]
    },
    {
      "cell_type": "markdown",
      "metadata": {
        "id": "EflcECfAQxZz"
      },
      "source": []
    },
    {
      "cell_type": "code",
      "execution_count": 20,
      "metadata": {
        "id": "1i6A1w7lH40a"
      },
      "outputs": [],
      "source": [
        "import torch.nn.utils as torch_utils\n",
        "\n",
        "def train_one_epoch(model, loader, optimizer, scheduler, criterion, device, brand_to_model_mask, model_to_type_mask, loss_weights={'brand': 0.6, 'model': 1.0, 'type': 1.0}, grad_clip_value=1.0):\n",
        "    \"\"\"\n",
        "    Funkcja do przeprowadzenia jednej epoki treningowej.\n",
        "    \"\"\"\n",
        "    model.train()\n",
        "    running_loss = 0\n",
        "    total_grad_norm = 0\n",
        "    correct = {\"brand\": 0, \"model\": 0, \"type\": 0}\n",
        "    total = 0\n",
        "\n",
        "    for images, targets in tqdm(loader, desc=\"Training\"):\n",
        "        images = images.to(device)\n",
        "        targets = {k: v.to(device) for k, v in targets.items()}\n",
        "        brand_labels = targets['brand']\n",
        "        model_labels = targets['model']\n",
        "        type_labels = targets['type']\n",
        "\n",
        "        optimizer.zero_grad()\n",
        "\n",
        "        outputs = model(images, targets)\n",
        "\n",
        "        brand_logits = outputs['brand']\n",
        "        model_logits = outputs['model']\n",
        "        type_logits = outputs['type']\n",
        "\n",
        "        # --- Masked Loss Calculation ---\n",
        "        # 1. Brand loss (calculated as usual)\n",
        "        loss_brand = criterion(brand_logits, brand_labels)\n",
        "\n",
        "        # 2. Model loss (with ground truth masking)\n",
        "        model_loss_mask = brand_to_model_mask[brand_labels]\n",
        "        masked_model_logits = model_logits + model_loss_mask\n",
        "        loss_model = criterion(masked_model_logits, model_labels)\n",
        "\n",
        "        # 3. Type loss (with ground truth masking)\n",
        "        type_loss_mask = model_to_type_mask[model_labels]\n",
        "        masked_type_logits = type_logits + type_loss_mask\n",
        "        loss_type = criterion(masked_type_logits, type_labels)\n",
        "\n",
        "        # 4. Combine the losses\n",
        "        loss = (loss_weights['brand'] * loss_brand +\n",
        "                loss_weights['model'] * loss_model +\n",
        "                loss_weights['type'] * loss_type)\n",
        "\n",
        "        loss.backward()\n",
        "\n",
        "        grad_norm = torch_utils.clip_grad_norm_(model.parameters(), grad_clip_value)\n",
        "        total_grad_norm += grad_norm.item()\n",
        "\n",
        "        optimizer.step()\n",
        "        scheduler.step()\n",
        "        running_loss += loss.item()\n",
        "        total += images.size(0)\n",
        "        correct['brand'] += (brand_logits.argmax(dim=1) == brand_labels).sum().item()\n",
        "        correct['model'] += (masked_model_logits.argmax(dim=1) == model_labels).sum().item()\n",
        "        correct['type'] += (masked_type_logits.argmax(dim=1) == type_labels).sum().item()\n",
        "\n",
        "    avg_loss = running_loss / len(loader)\n",
        "    avg_grad_norm = total_grad_norm / len(loader)\n",
        "    accuracy = {k: 100 * correct[k] / total for k in correct} # Corrected accuracy percentage\n",
        "    print(f\"Accuracy -> Brand: {accuracy['brand']:.2f}% | Model: {accuracy['model']:.2f}% | Type: {accuracy['type']:.2f}%\")\n",
        "\n",
        "    return avg_loss, accuracy, avg_grad_norm"
      ]
    },
    {
      "cell_type": "code",
      "execution_count": null,
      "metadata": {
        "id": "U1jCe2u0H-B6"
      },
      "outputs": [],
      "source": [
        "from torch.optim.lr_scheduler import OneCycleLR\n",
        "\n",
        "base_model = models.resnet50(pretrained=True)\n",
        "for param in base_model.parameters():\n",
        "    param.requires_grad = False\n",
        "\n",
        "model = MultiHeadResNet(base_model=base_model,\n",
        "    num_brands=num_brands,\n",
        "    num_models=num_models,\n",
        "    num_types=num_types,\n",
        "    brand_to_model_mask=brand_to_model_mask,\n",
        "    model_to_type_mask=model_to_type_mask).to(device)\n",
        "criterion = nn.CrossEntropyLoss()\n",
        "\n",
        "# ===================================================================\n",
        "# === ETAP 1: TRENING GŁOWIC (ZAMROŻONY BACKBONE) ===\n",
        "# ===================================================================\n",
        "print(\"🚀 ETAP 1: Rozpoczynam trening głowic...\")\n",
        "\n",
        "# Konfiguracja tylko dla zamrożonego treningu\n",
        "frozen_epochs = 70\n",
        "# Upewnij się, że tylko parametry głowic są przekazywane do optymalizatora\n",
        "optimizer_frozen = torch.optim.AdamW(\n",
        "    filter(lambda p: p.requires_grad, model.parameters()),\n",
        "    lr=0.0001\n",
        ")\n",
        "scheduler_frozen = OneCycleLR(\n",
        "    optimizer_frozen,\n",
        "    max_lr=1e-2, # Maksymalny LR do osiągnięcia\n",
        "    total_steps=frozen_epochs * len(train_loader) # OneCycleLR działa per batch!\n",
        ")\n",
        "\n",
        "for epoch in range(frozen_epochs):\n",
        "    # Wywołanie zunifikowanej funkcji treningowej\n",
        "    train_loss, train_acc, train_grad_norm = train_one_epoch(\n",
        "        model, train_loader, optimizer_frozen, scheduler_frozen, criterion, device, brand_to_model_mask, model_to_type_mask\n",
        "    )\n",
        "\n",
        "    # Ewaluacja\n",
        "    val_loss, val_acc = evaluate(model, val_loader, epoch, criterion, prefix=\"val\")\n",
        "\n",
        "    # Logowanie\n",
        "    current_lr = optimizer_frozen.param_groups[0]['lr']\n",
        "    writer.add_scalar(\"train/loss\", train_loss, epoch)\n",
        "    writer.add_scalar(\"train/grad_norm\", train_grad_norm, epoch)\n",
        "    writer.add_scalar(\"train/learning_rate\", current_lr, epoch)\n",
        "    for k in train_acc:\n",
        "        writer.add_scalar(f\"train/acc_{k}\", train_acc[k], epoch)\n",
        "\n",
        "    print(f\"ETAP 1 - Epoka {epoch+1}/{frozen_epochs} | Val Loss: {val_loss:.4f} | LR: {current_lr:.6f}\")\n",
        "    print(f\"Val Acc: {val_acc}\")\n",
        "\n",
        "\n",
        "# ===================================================================\n",
        "# === ETAP 2: FINE-TUNING (ODMROŻONY BACKBONE) ===\n",
        "# ===================================================================\n",
        "print(\"\\n🚀 ETAP 2: Rozpoczynam fine-tuning...\")\n",
        "\n",
        "# KROK 1: Odmrażamy ostatnie warstwy backbone'u\n",
        "for param in model.backbone.layer4.parameters():\n",
        "    param.requires_grad = True\n",
        "\n",
        "# KROK 2: Tworzymy NOWY optymalizator z różnymi learning rates (bardzo ważne!)\n",
        "fine_tune_epochs = 35\n",
        "optimizer_finetune = torch.optim.AdamW([\n",
        "    # Grupa parametrów dla głowic (wyższy learning rate)\n",
        "    {'params': (p for n, p in model.named_parameters() if 'backbone' not in n and p.requires_grad), 'lr': 1e-5},\n",
        "    # Grupa parametrów dla odmrożonego backbone'u (BARDZO niski learning rate)\n",
        "    {'params': model.backbone.layer4.parameters(), 'lr': 1e-6}\n",
        "])\n",
        "# Tworzymy NOWY scheduler dla nowego optymalizatora\n",
        "scheduler_finetune = OneCycleLR(\n",
        "    optimizer_finetune,\n",
        "    max_lr=[1e-2, 1e-3], # max_lr dla głowic i dla backbone\n",
        "    total_steps=fine_tune_epochs * len(train_loader)\n",
        ")\n",
        "\n",
        "for epoch in range(fine_tune_epochs):\n",
        "    # Ważne: indeks epoki do logowania musi być kontynuacją poprzedniego etapu\n",
        "    epoch_idx = frozen_epochs + epoch\n",
        "\n",
        "    train_loss, train_acc, train_grad_norm = train_one_epoch(\n",
        "        model, train_loader, optimizer_finetune, scheduler_finetune, criterion, device, brand_to_model_mask, model_to_type_mask\n",
        "    )\n",
        "\n",
        "    val_loss, val_acc = evaluate(model, val_loader, epoch_idx, criterion, prefix=\"val\")\n",
        "\n",
        "    # Logowanie - używamy osobnych grup LR\n",
        "    lr_heads = optimizer_finetune.param_groups[0]['lr']\n",
        "    lr_backbone = optimizer_finetune.param_groups[1]['lr']\n",
        "    writer.add_scalar(\"train/loss\", train_loss, epoch_idx)\n",
        "    writer.add_scalar(\"train/grad_norm\", train_grad_norm, epoch_idx)\n",
        "    writer.add_scalar(\"train/learning_rate_heads\", lr_heads, epoch_idx)\n",
        "    writer.add_scalar(\"train/learning_rate_backbone\", lr_backbone, epoch_idx)\n",
        "    for k in train_acc:\n",
        "        writer.add_scalar(f\"train/acc_{k}\", train_acc[k], epoch_idx)\n",
        "\n",
        "    print(f\"ETAP 2 - Epoka {epoch+1}/{fine_tune_epochs} | Val Loss: {val_loss:.4f} | LR Głowic: {lr_heads:.6f} | LR Backbone: {lr_backbone:.7f}\")\n",
        "    print(f\"Val Acc: {val_acc}\")"
      ]
    },
    {
      "cell_type": "code",
      "execution_count": null,
      "metadata": {
        "id": "YFYeeQhZ6dKp"
      },
      "outputs": [],
      "source": [
        "test_loss, test_acc = evaluate(model, test_loader, fine_tune_epochs, criterion, prefix=\"test\")\n",
        "print(f\"Test loss: {test_loss:.4f} | Test acc: {test_acc}\")"
      ]
    },
    {
      "cell_type": "code",
      "execution_count": null,
      "metadata": {
        "id": "T9UzIK1yLNwh"
      },
      "outputs": [],
      "source": [
        "torch.save(model.state_dict(), f\"car_model_{timestamp}.pth\")"
      ]
    },
    {
      "cell_type": "code",
      "execution_count": null,
      "metadata": {
        "id": "TwfGtWrD6mMM"
      },
      "outputs": [],
      "source": [
        "from tensorboard.backend.event_processing.event_accumulator import EventAccumulator\n",
        "import matplotlib.pyplot as plt\n",
        "import os\n",
        "\n",
        "# chart_dir = f\"logs/tensorboard_charts/experiment_{timestamp}\"\n",
        "chart_dir = \"/content/drive/MyDrive/tensorboard_charts/experiment_{timestamp}\"\n",
        "os.makedirs(chart_dir, exist_ok=True)\n",
        "\n",
        "ea = EventAccumulator(log_dir)\n",
        "ea.Reload()\n",
        "\n",
        "for tag in ea.Tags()['scalars']:\n",
        "    events = ea.Scalars(tag)\n",
        "    steps = [e.step for e in events]\n",
        "    values = [e.value for e in events]\n",
        "\n",
        "    plt.figure()\n",
        "    plt.plot(steps, values)\n",
        "    plt.title(tag)\n",
        "    plt.xlabel(\"Epoch\")\n",
        "    plt.ylabel(tag.split('/')[-1])\n",
        "    plt.grid(True)\n",
        "\n",
        "    fname_base = tag.replace(\"/\", \"_\")\n",
        "    plt.savefig(os.path.join(chart_dir, f\"{fname_base}.png\"))\n",
        "    plt.savefig(os.path.join(chart_dir, f\"{fname_base}.pdf\"))\n",
        "    plt.close()"
      ]
    }
  ],
  "metadata": {
    "colab": {
      "provenance": [],
      "toc_visible": true,
      "include_colab_link": true
    },
    "kernelspec": {
      "display_name": "venv",
      "language": "python",
      "name": "python3"
    },
    "language_info": {
      "codemirror_mode": {
        "name": "ipython",
        "version": 3
      },
      "file_extension": ".py",
      "mimetype": "text/x-python",
      "name": "python",
      "nbconvert_exporter": "python",
      "pygments_lexer": "ipython3",
      "version": "3.10.12"
    }
  },
  "nbformat": 4,
  "nbformat_minor": 0
}